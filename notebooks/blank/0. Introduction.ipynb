{
 "cells": [
  {
   "cell_type": "markdown",
   "metadata": {},
   "source": [
    "# About Me:\n",
    "## DSR Alum (Batch 30), Data Scientist/MLOps at Roche\n",
    "\n",
    "### MSc Bioinformatics, BSc Biotechnology\n",
    "\n",
    "#### Contact: \n",
    "kbuzar@gmail.com [LinkedIn](https://www.linkedin.com/in/krzysztof-buzar-86a6a1128)"
   ]
  },
  {
   "cell_type": "markdown",
   "metadata": {},
   "source": [
    "# About You:\n",
    "- Name\n",
    "- Background (work & academic)\n",
    "- Potential project ideas\n",
    "- Plans after DSR"
   ]
  }
 ],
 "metadata": {
  "kernelspec": {
   "display_name": "Python 3 (ipykernel)",
   "language": "python",
   "name": "python3"
  },
  "language_info": {
   "codemirror_mode": {
    "name": "ipython",
    "version": 3
   },
   "file_extension": ".py",
   "mimetype": "text/x-python",
   "name": "python",
   "nbconvert_exporter": "python",
   "pygments_lexer": "ipython3",
   "version": "3.11.5"
  }
 },
 "nbformat": 4,
 "nbformat_minor": 2
}
